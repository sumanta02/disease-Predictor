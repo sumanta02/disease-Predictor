{
 "cells": [
  {
   "cell_type": "markdown",
   "metadata": {},
   "source": [
    "<h2>Function to predict parkinsons disease.</h2>"
   ]
  },
  {
   "cell_type": "code",
   "execution_count": 42,
   "metadata": {},
   "outputs": [],
   "source": [
    "def Parkinsons():\n",
    "    from scipy.stats import skew\n",
    "    from sklearn.metrics import classification_report\n",
    "    from sklearn.metrics import confusion_matrix\n",
    "    from sklearn.metrics import accuracy_score\n",
    "    from sklearn.metrics import precision_recall_curve, average_precision_score,auc\n",
    "    from sklearn.metrics import confusion_matrix\n",
    "    import pandas as pd\n",
    "    import numpy as np\n",
    "\n",
    "    data = pd.read_csv('parkinsons.csv')\n",
    "\n",
    "    data_new = data.drop(['status'], axis=1)\n",
    "    column = list(data_new.columns)\n",
    "\n",
    "    def skewness_check(col):\n",
    "        l=[]\n",
    "        for name in col:\n",
    "            value = data[name].skew()\n",
    "            if(value>1.5 or value<-1.5):\n",
    "                # print(name,\":\",value)\n",
    "                l.append(name)\n",
    "        return l\n",
    "\n",
    "    col_skew = []\n",
    "    col_skew = skewness_check(column)\n",
    "\n",
    "    from sklearn.preprocessing import StandardScaler\n",
    "    standard = StandardScaler()\n",
    "    real_x = data.iloc[:,:-1].values\n",
    "    real_y = data.iloc[:,-1].values\n",
    "    real_x = standard.fit_transform(real_x)\n",
    "\n",
    "    from sklearn.preprocessing import LabelEncoder\n",
    "    labels=np.asarray(data.status)\n",
    "    le=LabelEncoder().fit(labels)\n",
    "    labels=le.transform(labels)\n",
    "    from sklearn.model_selection import train_test_split\n",
    "    x_train, x_test, y_train, y_test = train_test_split(real_x, real_y, test_size=0.15, stratify=real_y)\n",
    "\n",
    "    from sklearn.ensemble import GradientBoostingClassifier\n",
    "    model_GB = GradientBoostingClassifier()\n",
    "    model_GB.fit(x_train, y_train)\n",
    "    y_predict_gb = model_GB.predict(x_test)\n",
    "    pred=[labels[p] for p in y_predict_gb]\n",
    "    print(confusion_matrix(y_test,y_predict_gb))\n",
    "    print(y_predict_gb)\n",
    "    print(model_GB.score(x_test, y_test)*100,\"%\")\n"
   ]
  },
  {
   "cell_type": "markdown",
   "metadata": {},
   "source": [
    "Testing on a list of parameters."
   ]
  },
  {
   "cell_type": "code",
   "execution_count": 43,
   "metadata": {},
   "outputs": [
    {
     "name": "stdout",
     "output_type": "stream",
     "text": [
      "[[ 6  1]\n",
      " [ 2 21]]\n",
      "[0 1 1 1 1 0 1 1 1 1 1 1 1 0 0 0 1 1 1 1 1 0 1 1 1 1 1 0 1 0]\n",
      "90.0 %\n"
     ]
    }
   ],
   "source": [
    "import pandas as pd\n",
    "diadf=pd.read_csv('parkinsons.csv')\n",
    "df_sel=diadf.drop(['status'],axis=1)\n",
    "\n",
    "tlist=df_sel.iloc[184].tolist()\n",
    "Parkinsons()"
   ]
  },
  {
   "cell_type": "code",
   "execution_count": null,
   "metadata": {},
   "outputs": [],
   "source": []
  }
 ],
 "metadata": {
  "kernelspec": {
   "display_name": "Python 3.8.12 ('TF3')",
   "language": "python",
   "name": "python3"
  },
  "language_info": {
   "codemirror_mode": {
    "name": "ipython",
    "version": 3
   },
   "file_extension": ".py",
   "mimetype": "text/x-python",
   "name": "python",
   "nbconvert_exporter": "python",
   "pygments_lexer": "ipython3",
   "version": "3.8.12"
  },
  "orig_nbformat": 4,
  "vscode": {
   "interpreter": {
    "hash": "6ed76d547bd22ac43bff69f83568c41375d1f2ec7dc502080de79a45fa169235"
   }
  }
 },
 "nbformat": 4,
 "nbformat_minor": 2
}
