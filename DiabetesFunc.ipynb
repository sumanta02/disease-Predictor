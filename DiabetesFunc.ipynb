{
 "cells": [
  {
   "cell_type": "markdown",
   "metadata": {},
   "source": [
    "<h2>Function to predict Diabetes.</h2>"
   ]
  },
  {
   "cell_type": "code",
   "execution_count": 9,
   "metadata": {},
   "outputs": [],
   "source": [
    "def Diabetes(TestList):\n",
    "    !pip install Scikit-learn\n",
    "    import pandas as pd\n",
    "    import numpy as np\n",
    "    from sklearn.preprocessing import LabelEncoder\n",
    "    from sklearn.feature_extraction import DictVectorizer\n",
    "    from sklearn.model_selection import train_test_split\n",
    "    from sklearn.neighbors import KNeighborsClassifier\n",
    "    diadf=pd.read_csv('diabetes.csv')\n",
    "\n",
    "    labels=np.asarray(diadf.Outcome)\n",
    "    le=LabelEncoder().fit(labels)\n",
    "    labels=le.transform(labels)\n",
    "\n",
    "    df_sel=diadf.drop(['Outcome'],axis=1)\n",
    "    df_features=df_sel.to_dict(orient='records')\n",
    "    vec=DictVectorizer()\n",
    "    features=vec.fit_transform(df_features).toarray()\n",
    "\n",
    "\n",
    "    y_train,y_test,x_train,x_test=train_test_split(features,labels,test_size=0.1,random_state=0)\n",
    "\n",
    "\n",
    "    model=KNeighborsClassifier(n_neighbors=3).fit(y_train,x_train)\n",
    "    predictor=model.predict(TestList)\n",
    "    pred=[p for p in predictor]\n",
    "    acc=model.score(y_train,x_train)\n",
    "    print(pred)\n",
    "    print(acc)"
   ]
  },
  {
   "cell_type": "markdown",
   "metadata": {},
   "source": [
    "Testing on a list of parameters."
   ]
  },
  {
   "cell_type": "code",
   "execution_count": 12,
   "metadata": {},
   "outputs": [
    {
     "name": "stdout",
     "output_type": "stream",
     "text": [
      "Requirement already satisfied: Scikit-learn in d:\\coding\\anaconda\\lib\\site-packages (1.0.2)\n",
      "Requirement already satisfied: threadpoolctl>=2.0.0 in d:\\coding\\anaconda\\lib\\site-packages (from Scikit-learn) (2.2.0)\n",
      "Requirement already satisfied: numpy>=1.14.6 in d:\\coding\\anaconda\\lib\\site-packages (from Scikit-learn) (1.21.5)\n",
      "Requirement already satisfied: scipy>=1.1.0 in d:\\coding\\anaconda\\lib\\site-packages (from Scikit-learn) (1.7.3)\n",
      "Requirement already satisfied: joblib>=0.11 in d:\\coding\\anaconda\\lib\\site-packages (from Scikit-learn) (1.1.0)\n",
      "[0, 1, 0]\n",
      "0.85383502170767\n"
     ]
    }
   ],
   "source": [
    "import pandas as pd\n",
    "diadf=pd.read_csv('diabetes.csv')\n",
    "df_sel=diadf.drop(['Outcome'],axis=1)\n",
    "\n",
    "tlist=[df_sel.iloc[1].tolist(),df_sel.iloc[2].tolist(),df_sel.iloc[3].tolist()]\n",
    "Diabetes(tlist)\n"
   ]
  }
 ],
 "metadata": {
  "kernelspec": {
   "display_name": "Python 3.9.12 64-bit",
   "language": "python",
   "name": "python3"
  },
  "language_info": {
   "codemirror_mode": {
    "name": "ipython",
    "version": 3
   },
   "file_extension": ".py",
   "mimetype": "text/x-python",
   "name": "python",
   "nbconvert_exporter": "python",
   "pygments_lexer": "ipython3",
   "version": "3.9.12"
  },
  "orig_nbformat": 4,
  "vscode": {
   "interpreter": {
    "hash": "220d8673de9eee696a3f9b9c34cfc5a7f305402fe20c03b61034f76bc89d8b75"
   }
  }
 },
 "nbformat": 4,
 "nbformat_minor": 2
}
