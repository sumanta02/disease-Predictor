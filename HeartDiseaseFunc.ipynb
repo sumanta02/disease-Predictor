{
 "cells": [
  {
   "cell_type": "markdown",
   "metadata": {},
   "source": [
    "<h2>Function to predict Heart Disease.</h2>"
   ]
  },
  {
   "cell_type": "code",
   "execution_count": null,
   "metadata": {},
   "outputs": [],
   "source": [
    "def HeartDisease(Testlist):\n",
    "    import pandas as pd\n",
    "    import numpy as np\n",
    "    hddf=pd.read_csv('Heart_Disease_Prediction.csv')\n",
    "\n",
    "    x=hddf.drop(['Heart Disease'],axis=1)\n",
    "    y_dis=hddf['Heart Disease']\n",
    "    y=hddf['Heart Disease'].map({'Presence':1,'Absence':0})\n",
    "\n",
    "#Balancing the data\n",
    "    one_target = int(np.sum(y))\n",
    "    zero_counter = 0\n",
    "    indices_to_remove = []\n",
    "\n",
    "    for i in range(y.shape[0]):\n",
    "        if y[i] == 0:\n",
    "            zero_counter += 1\n",
    "            if zero_counter > one_target:\n",
    "                indices_to_remove.append(i)\n",
    "\n",
    "    balanced_inputs = x.drop(indices_to_remove, axis=0)\n",
    "    balanced_targets = y.drop(indices_to_remove, axis=0)\n",
    "\n",
    "    reset_inputs = balanced_inputs.reset_index(drop=True)\n",
    "    reset_targets = balanced_targets.reset_index(drop=True)\n",
    "\n",
    "    # print(\"Balanced targets: \",balanced_targets)\n",
    "\n",
    "    from sklearn.preprocessing import MinMaxScaler\n",
    "    scaled_inputs = MinMaxScaler().fit_transform(balanced_inputs)\n",
    "\n",
    "    from sklearn.model_selection import train_test_split\n",
    "    x_train,x_test,y_train,y_test=train_test_split(scaled_inputs,balanced_targets,test_size=0.2,random_state=0)\n",
    "\n",
    "    # print(\"Xtrain data:\",x_train)\n",
    "    # print(\"Y tarin data:\",y_train)\n",
    "\n",
    "    from sklearn.linear_model import LogisticRegression\n",
    "    model=LogisticRegression().fit(x_train,y_train)\n",
    "    pred=model.predict(Testlist)\n",
    "    pr=[hddf['Heart Disease'][i] for i in pred]\n",
    "    acc=model.score(x_test,y_test)\n",
    "    print(pr)\n",
    "    print(acc)"
   ]
  },
  {
   "cell_type": "code",
   "execution_count": 122,
   "metadata": {},
   "outputs": [
    {
     "name": "stdout",
     "output_type": "stream",
     "text": [
      "['Absence']\n",
      "74.07407407407408 %\n"
     ]
    }
   ],
   "source": [
    "import pandas as pd\n",
    "diadf=pd.read_csv('Heart_Disease_Prediction.csv')\n",
    "df_sel=diadf.drop(['Heart Disease'],axis=1)\n",
    "\n",
    "tlist=[[57,1,2,124,261,0,0,141,0,0.3,1,0,7]]\n",
    "HeartDisease(tlist)\n"
   ]
  },
  {
   "cell_type": "code",
   "execution_count": null,
   "metadata": {},
   "outputs": [],
   "source": []
  }
 ],
 "metadata": {
  "kernelspec": {
   "display_name": "Python 3.9.12 64-bit",
   "language": "python",
   "name": "python3"
  },
  "language_info": {
   "codemirror_mode": {
    "name": "ipython",
    "version": 3
   },
   "file_extension": ".py",
   "mimetype": "text/x-python",
   "name": "python",
   "nbconvert_exporter": "python",
   "pygments_lexer": "ipython3",
   "version": "3.9.12"
  },
  "orig_nbformat": 4,
  "vscode": {
   "interpreter": {
    "hash": "220d8673de9eee696a3f9b9c34cfc5a7f305402fe20c03b61034f76bc89d8b75"
   }
  }
 },
 "nbformat": 4,
 "nbformat_minor": 2
}
