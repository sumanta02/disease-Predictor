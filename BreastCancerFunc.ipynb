{
 "cells": [
  {
   "cell_type": "markdown",
   "metadata": {},
   "source": [
    "<h2>Function to predict Breast cancer.</h2>"
   ]
  },
  {
   "cell_type": "code",
   "execution_count": 1,
   "metadata": {},
   "outputs": [],
   "source": [
    "#TestList is a 2D list.\n",
    "def BreastCancer(TestList):\n",
    "    #importing Libraries and packages\n",
    "    !pip install Scikit-learn\n",
    "    import pandas as pd\n",
    "    import numpy as np\n",
    "    from sklearn.datasets import load_breast_cancer\n",
    "    from sklearn.preprocessing import LabelEncoder\n",
    "    from sklearn.feature_extraction import DictVectorizer\n",
    "    from sklearn.model_selection import train_test_split\n",
    "    from sklearn.svm import SVC\n",
    "    bc=load_breast_cancer()\n",
    "    bcdf=pd.DataFrame(bc.data,columns=bc.feature_names)\n",
    "    \n",
    "    #Label Encoding\n",
    "    labels=np.asarray(bc.target)\n",
    "    le=LabelEncoder()\n",
    "    le.fit(labels)\n",
    "    labels=le.transform(labels)\n",
    "    dfsel=bcdf.to_dict(orient='records')\n",
    "    vec=DictVectorizer()\n",
    "\n",
    "    #Splitting the data for training and testing\n",
    "    features=vec.fit_transform(dfsel).toarray()\n",
    "    y_tr,y_te,x_tr,x_te=train_test_split(features,labels,test_size=0.1,random_state=0)\n",
    "    \n",
    "    #Using Support Vector Classifier\n",
    "    model=SVC(kernel='linear',C=1).fit(y_tr,x_tr)\n",
    "    pre=model.predict(TestList)\n",
    "    pred_arr=[bc.target_names[i] for i in pre]\n",
    "    print(pred_arr)\n",
    "    acc=model.score(y_te,x_te)\n",
    "    print(acc)\n",
    "    "
   ]
  },
  {
   "cell_type": "markdown",
   "metadata": {},
   "source": [
    "Testing on a list of parameters."
   ]
  },
  {
   "cell_type": "code",
   "execution_count": 3,
   "metadata": {},
   "outputs": [
    {
     "name": "stdout",
     "output_type": "stream",
     "text": [
      "Requirement already satisfied: Scikit-learn in d:\\coding\\anaconda\\lib\\site-packages (1.0.2)\n",
      "Requirement already satisfied: threadpoolctl>=2.0.0 in d:\\coding\\anaconda\\lib\\site-packages (from Scikit-learn) (2.2.0)\n",
      "Requirement already satisfied: numpy>=1.14.6 in d:\\coding\\anaconda\\lib\\site-packages (from Scikit-learn) (1.21.5)\n",
      "Requirement already satisfied: joblib>=0.11 in d:\\coding\\anaconda\\lib\\site-packages (from Scikit-learn) (1.1.0)\n",
      "Requirement already satisfied: scipy>=1.1.0 in d:\\coding\\anaconda\\lib\\site-packages (from Scikit-learn) (1.7.3)\n",
      "['malignant']\n",
      "0.9649122807017544\n"
     ]
    }
   ],
   "source": [
    "from sklearn.datasets import load_breast_cancer\n",
    "import pandas as pd\n",
    "import numpy\n",
    "bc=load_breast_cancer()\n",
    "bcdf=pd.DataFrame(bc.data,columns=bc.feature_names)\n",
    "tlist=bcdf.iloc[4].tolist()\n",
    "BreastCancer([tlist])\n",
    "# tlist"
   ]
  }
 ],
 "metadata": {
  "kernelspec": {
   "display_name": "Python 3.9.12 64-bit",
   "language": "python",
   "name": "python3"
  },
  "language_info": {
   "codemirror_mode": {
    "name": "ipython",
    "version": 3
   },
   "file_extension": ".py",
   "mimetype": "text/x-python",
   "name": "python",
   "nbconvert_exporter": "python",
   "pygments_lexer": "ipython3",
   "version": "3.9.12"
  },
  "orig_nbformat": 4,
  "vscode": {
   "interpreter": {
    "hash": "220d8673de9eee696a3f9b9c34cfc5a7f305402fe20c03b61034f76bc89d8b75"
   }
  }
 },
 "nbformat": 4,
 "nbformat_minor": 2
}
